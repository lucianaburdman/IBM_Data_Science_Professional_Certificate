{"cells":[{"cell_type":"markdown","metadata":{},"sou{
 "cells": [
  {
   "cell_type": "markdown",
   "metadata": {},
   "source": [
    "<center>\n",
    "    <img src=\"https://cf-courses-data.s3.us.cloud-object-storage.appdomain.cloud/IBMDeveloperSkillsNetwork-PY0101EN-SkillsNetwork/IDSNlogo.png\" width=\"300\" alt=\"cognitiveclass.ai logo\"  />\n",
    "</center>\n",
    "\n",
    "# Classes and Objects in Python\n",
    "\n",
    "Estimated time needed: **40** minutes\n",
    "\n",
    "## Objectives\n",
    "\n",
    "After completing this lab you will be able to:\n",
    "\n",
    "*   Work with classes and objects\n",
    "*   Identify and define attributes and methods\n"
   ]
  },
  {
   "cell_type": "markdown",
   "metadata": {},
   "source": [
    "<h2>Table of Contents</h2>\n",
    "<div class=\"alert alert-block alert-info\" style=\"margin-top: 20px\">\n",
    "    <ul>\n",
    "        <li>\n",
    "            <a href=\"https://#intro\">Introduction to Classes and Objects</a>\n",
    "            <ul>\n",
    "                <li><a href=\"https://create/?utm_medium=Exinfluencer&utm_source=Exinfluencer&utm_content=000026UJ&utm_term=10006555&utm_id=NA-SkillsNetwork-Channel-SkillsNetworkCoursesIBMDeveloperSkillsNetworkPY0101ENSkillsNetwork19487395-2021-01-01\">Creating a class</a></li>\n",
    "                <li><a href=\"https://instance/?utm_medium=Exinfluencer&utm_source=Exinfluencer&utm_content=000026UJ&utm_term=10006555&utm_id=NA-SkillsNetwork-Channel-SkillsNetworkCoursesIBMDeveloperSkillsNetworkPY0101ENSkillsNetwork19487395-2021-01-01\">Instances of a Class: Objects and Attributes</a></li>\n",
    "                <li><a href=\"https://method/?utm_medium=Exinfluencer&utm_source=Exinfluencer&utm_content=000026UJ&utm_term=10006555&utm_id=NA-SkillsNetwork-Channel-SkillsNetworkCoursesIBMDeveloperSkillsNetworkPY0101ENSkillsNetwork19487395-2021-01-01\">Methods</a></li>\n",
    "            </ul>\n",
    "        </li>\n",
    "        <li><a href=\"https://creating/?utm_medium=Exinfluencer&utm_source=Exinfluencer&utm_content=000026UJ&utm_term=10006555&utm_id=NA-SkillsNetwork-Channel-SkillsNetworkCoursesIBMDeveloperSkillsNetworkPY0101ENSkillsNetwork19487395-2021-01-01\">Creating a class</a></li>\n",
    "        <li><a href=\"https://circle/?utm_medium=Exinfluencer&utm_source=Exinfluencer&utm_content=000026UJ&utm_term=10006555&utm_id=NA-SkillsNetwork-Channel-SkillsNetworkCoursesIBMDeveloperSkillsNetworkPY0101ENSkillsNetwork19487395-2021-01-01\">Creating an instance of a class Circle</a></li>\n",
    "        <li><a href=\"https://rect/?utm_medium=Exinfluencer&utm_source=Exinfluencer&utm_content=000026UJ&utm_term=10006555&utm_id=NA-SkillsNetwork-Channel-SkillsNetworkCoursesIBMDeveloperSkillsNetworkPY0101ENSkillsNetwork19487395-2021-01-01\">The Rectangle Class</a></li>\n",
    "    </ul>\n",
    "\n",
    "</div>\n",
    "\n",
    "<hr>\n"
   ]
  },
  {
   "cell_type": "markdown",
   "metadata": {},
   "source": [
    "<h2 id=\"intro\">Introduction to Classes and Objects</h2>\n"
   ]
  },
  {
   "cell_type": "markdown",
   "metadata": {},
   "source": [
    "<h3>Creating a Class</h3>\n"
   ]
  },
  {
   "cell_type": "markdown",
   "metadata": {},
   "source": [
    "The first step in creating a class is giving it a name. In this notebook, we will create two classes: Circle and Rectangle. We need to determine all the data that make up that class, which we call <em>attributes</em>. Think about this step as creating a blue print that we will use to create objects. In figure 1 we see two classes, Circle and Rectangle. Each has their attributes, which are variables. The class Circle has the attribute radius and color, while the Rectangle class has the attribute height and width. Let’s use the visual examples of these shapes before we get to the code, as this will help you get accustomed to the vocabulary.\n"
   ]
  },
  {
   "cell_type": "markdown",
   "metadata": {},
   "source": [
    "<img src=\"https://cf-courses-data.s3.us.cloud-object-storage.appdomain.cloud/IBMDeveloperSkillsNetwork-PY0101EN-SkillsNetwork/labs/Module%203/images/ClassesClass.png\" width=\"500\" />\n"
   ]
  },
  {
   "cell_type": "markdown",
   "metadata": {},
   "source": [
    "<i>Figure 1: Classes circle and rectangle, and each has their own attributes. The class Circle has the attribute radius and colour, the class Rectangle has the attributes height and width.</i>\n"
   ]
  },
  {
   "cell_type": "markdown",
   "metadata": {},
   "source": [
    "<h3 id=\"instance\">Instances of a Class: Objects and Attributes</h3>\n"
   ]
  },
  {
   "cell_type": "markdown",
   "metadata": {},
   "source": [
    "An instance of an object is the realisation of a class, and in Figure 2 we see three instances of the class circle. We give each object a name: red circle, yellow circle, and green circle. Each object has different attributes, so let's focus on the color attribute for each object.\n"
   ]
  },
  {
   "cell_type": "markdown",
   "metadata": {},
   "source": [
    "<img src=\"https://cf-courses-data.s3.us.cloud-object-storage.appdomain.cloud/IBMDeveloperSkillsNetwork-PY0101EN-SkillsNetwork/labs/Module%203/images/ClassesObj.png\" width=\"500\" />\n"
   ]
  },
  {
   "cell_type": "markdown",
   "metadata": {},
   "source": [
    "<i>Figure 2: Three instances of the class Circle, or three objects of type Circle.</i>\n"
   ]
  },
  {
   "cell_type": "markdown",
   "metadata": {},
   "source": [
    "The colour attribute for the red Circle is the colour red, for the green Circle object the colour attribute is green, and for the yellow Circle the colour attribute is yellow.\n"
   ]
  },
  {
   "cell_type": "markdown",
   "metadata": {},
   "source": [
    "<h3 id=\"method\">Methods</h3>\n"
   ]
  },
  {
   "cell_type": "markdown",
   "metadata": {},
   "source": [
    "Methods give you a way to change or interact with the object; they are functions that interact with objects. For example, let’s say we would like to increase the radius of a circle by a specified amount. We can create a method called **add_radius(r)** that increases the radius by **r**. This is shown in figure 3, where after applying the method to the \"orange circle object\", the radius of the object increases accordingly. The “dot” notation means to apply the method to the object, which is essentially applying a function to the information in the object.\n"
   ]
  },
  {
   "cell_type": "markdown",
   "metadata": {},
   "source": [
    "<img src=\"https://cf-courses-data.s3.us.cloud-object-storage.appdomain.cloud/IBMDeveloperSkillsNetwork-PY0101EN-SkillsNetwork/labs/Module%203/images/ClassesMethod.png\" width=\"500\" /> \n"
   ]
  },
  {
   "cell_type": "markdown",
   "metadata": {},
   "source": [
    "<i>Figure 3: Applying the method “add_radius” to the object orange circle object.</i>\n"
   ]
  },
  {
   "cell_type": "markdown",
   "metadata": {},
   "source": [
    "<hr>\n"
   ]
  },
  {
   "cell_type": "markdown",
   "metadata": {},
   "source": [
    "<h2 id=\"creating\">Creating a Class</h2>\n"
   ]
  },
  {
   "cell_type": "markdown",
   "metadata": {},
   "source": [
    "Now we are going to create a class Circle, but first, we are going to import a library to draw the objects:\n"
   ]
  },
  {
   "cell_type": "code",
   "execution_count": 1,
   "metadata": {
    "tags": []
   },
   "outputs": [],
   "source": [
    "# Import the library\n",
    "\n",
    "import matplotlib.pyplot as plt\n",
    "%matplotlib inline  "
   ]
  },
  {
   "cell_type": "markdown",
   "metadata": {},
   "source": [
    "The first step in creating your own class is to use the <code>class</code> keyword, then the name of the class as shown in Figure 4. In this course the class parent will always be object:\n"
   ]
  },
  {
   "cell_type": "markdown",
   "metadata": {},
   "source": [
    "<img src=\"https://cf-courses-data.s3.us.cloud-object-storage.appdomain.cloud/IBMDeveloperSkillsNetwork-PY0101EN-SkillsNetwork/labs/Module%203/images/ClassesDefine.png\" width=\"400\" />\n"
   ]
  },
  {
   "cell_type": "markdown",
   "metadata": {},
   "source": [
    "<i>Figure 4: Creating a class Circle.</i>\n"
   ]
  },
  {
   "cell_type": "markdown",
   "metadata": {},
   "source": [
    "The next step is a special method called a constructor <code>\\__init\\_\\_</code>, which is used to initialize the object. The inputs are data attributes. The term <code>self</code> contains all the attributes in the set. For example the <code>self.color</code> gives the value of the attribute color and <code>self.radius</code> will give you the radius of the object. We also have the method <code>add_radius()</code> with the parameter <code>r</code>, the method adds the value of <code>r</code> to the attribute radius. To access the radius we use the syntax <code>self.radius</code>. The labeled syntax is summarized in Figure 5:\n"
   ]
  },
  {
   "cell_type": "markdown",
   "metadata": {},
   "source": [
    "<img src=\"https://cf-courses-data.s3.us.cloud-object-storage.appdomain.cloud/IBMDeveloperSkillsNetwork-PY0101EN-SkillsNetwork/labs/Module%203/images/ClassesCircle.png\" width=\"600\" />\n"
   ]
  },
  {
   "cell_type": "markdown",
   "metadata": {},
   "source": [
    "<i>Figure 5: Labeled syntax of the object circle.</i>\n"
   ]
  },
  {
   "cell_type": "markdown",
   "metadata": {},
   "source": [
    "The actual object is shown below. We include the method <code>drawCircle</code> to display the image of a circle. We set the default radius to 3 and the default colour to blue:\n"
   ]
  },
  {
   "cell_type": "code",
   "execution_count": 2,
   "metadata": {},
   "outputs": [],
   "source": [
    "# Create a class Circle\n",
    "\n",
    "class Circle(object):\n",
    "    \n",
    "    # Constructor\n",
    "    def __init__(self, radius=3, color='blue'):\n",
    "        self.radius = radius\n",
    "        self.color = color \n",
    "    \n",
    "    # Method\n",
    "    def add_radius(self, r):\n",
    "        self.radius = self.radius + r\n",
    "        return(self.radius)\n",
    "    \n",
    "    # Method\n",
    "    def drawCircle(self):\n",
    "        plt.gca().add_patch(plt.Circle((0, 0), radius=self.radius, fc=self.color))\n",
    "        plt.axis('scaled')\n",
    "        plt.show()  "
   ]
  },
  {
   "cell_type": "markdown",
   "metadata": {},
   "source": [
    "<hr>\n"
   ]
  },
  {
   "cell_type": "markdown",
   "metadata": {},
   "source": [
    "<h2 id=\"circle\">Creating an instance of a class Circle</h2>\n"
   ]
  },
  {
   "cell_type": "markdown",
   "metadata": {},
   "source": [
    "Let’s create the object <code>RedCircle</code> of type Circle to do the following:\n"
   ]
  },
  {
   "cell_type": "code",
   "execution_count": 3,
   "metadata": {},
   "outputs": [],
   "source": [
    "# Create an object RedCircle\n",
    "\n",
    "RedCircle = Circle(10, 'red')"
   ]
  },
  {
   "cell_type": "markdown",
   "metadata": {},
   "source": [
    "We can use the <code>dir</code> command to get a list of the object's methods. Many of them are default Python methods.\n"
   ]
  },
  {
   "cell_type": "code",
   "execution_count": 4,
   "metadata": {},
   "outputs": [
    {
     "data": {
      "text/plain": [
       "['__class__',\n",
       " '__delattr__',\n",
       " '__dict__',\n",
       " '__dir__',\n",
       " '__doc__',\n",
       " '__eq__',\n",
       " '__format__',\n",
       " '__ge__',\n",
       " '__getattribute__',\n",
       " '__gt__',\n",
       " '__hash__',\n",
       " '__init__',\n",
       " '__init_subclass__',\n",
       " '__le__',\n",
       " '__lt__',\n",
       " '__module__',\n",
       " '__ne__',\n",
       " '__new__',\n",
       " '__reduce__',\n",
       " '__reduce_ex__',\n",
       " '__repr__',\n",
       " '__setattr__',\n",
       " '__sizeof__',\n",
       " '__str__',\n",
       " '__subclasshook__',\n",
       " '__weakref__',\n",
       " 'add_radius',\n",
       " 'color',\n",
       " 'drawCircle',\n",
       " 'radius']"
      ]
     },
     "execution_count": 4,
     "metadata": {},
     "output_type": "execute_result"
    }
   ],
   "source": [
    "# Find out the methods can be used on the object RedCircle\n",
    "\n",
    "dir(RedCircle)"
   ]
  },
  {
   "cell_type": "markdown",
   "metadata": {},
   "source": [
    "We can look at the data attributes of the object:\n"
   ]
  },
  {
   "cell_type": "code",
   "execution_count": 5,
   "metadata": {},
   "outputs": [
    {
     "data": {
      "text/plain": [
       "10"
      ]
     },
     "execution_count": 5,
     "metadata": {},
     "output_type": "execute_result"
    }
   ],
   "source": [
    "# Print the object attribute radius\n",
    "\n",
    "RedCircle.radius"
   ]
  },
  {
   "cell_type": "code",
   "execution_count": 6,
   "metadata": {},
   "outputs": [
    {
     "data": {
      "text/plain": [
       "'red'"
      ]
     },
     "execution_count": 6,
     "metadata": {},
     "output_type": "execute_result"
    }
   ],
   "source": [
    "# Print the object attribute color\n",
    "\n",
    "RedCircle.color"
   ]
  },
  {
   "cell_type": "markdown",
   "metadata": {},
   "source": [
    "We can change the object's data attributes:\n"
   ]
  },
  {
   "cell_type": "code",
   "execution_count": 7,
   "metadata": {},
   "outputs": [
    {
     "data": {
      "text/plain": [
       "1"
      ]
     },
     "execution_count": 7,
     "metadata": {},
     "output_type": "execute_result"
    }
   ],
   "source": [
    "# Set the object attribute radius\n",
    "\n",
    "RedCircle.radius = 1\n",
    "RedCircle.radius"
   ]
  },
  {
   "cell_type": "markdown",
   "metadata": {},
   "source": [
    "We can draw the object by using the method <code>drawCircle()</code>:\n"
   ]
  },
  {
   "cell_type": "code",
   "execution_count": 8,
   "metadata": {},
   "outputs": [
    {
     "data": {
      "image/png": "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\n",
      "text/plain": [
       "<Figure size 432x288 with 1 Axes>"
      ]
     },
     "metadata": {
      "needs_background": "light"
     },
     "output_type": "display_data"
    }
   ],
   "source": [
    "# Call the method drawCircle\n",
    "\n",
    "RedCircle.drawCircle()"
   ]
  },
  {
   "cell_type": "markdown",
   "metadata": {},
   "source": [
    "We can increase the radius of the circle by applying the method <code>add_radius()</code>. Let's increases the radius by 2 and then by 5:\n"
   ]
  },
  {
   "cell_type": "code",
   "execution_count": 9,
   "metadata": {},
   "outputs": [
    {
     "name": "stdout",
     "output_type": "stream",
     "text": [
      "Radius of object: 1\n",
      "Radius of object of after applying the method add_radius(2): 3\n",
      "Radius of object of after applying the method add_radius(5): 8\n"
     ]
    }
   ],
   "source": [
    "# Use method to change the object attribute radius\n",
    "\n",
    "print('Radius of object:',RedCircle.radius)\n",
    "RedCircle.add_radius(2)\n",
    "print('Radius of object of after applying the method add_radius(2):',RedCircle.radius)\n",
    "RedCircle.add_radius(5)\n",
    "print('Radius of object of after applying the method add_radius(5):',RedCircle.radius)"
   ]
  },
  {
   "cell_type": "markdown",
   "metadata": {},
   "source": [
    "Let’s create a blue circle. As the default colour is blue, all we have to do is specify what the radius is:\n"
   ]
  },
  {
   "cell_type": "code",
   "execution_count": 14,
   "metadata": {},
   "outputs": [],
   "source": [
    "# Create a blue circle with a given radius\n",
    "\n",
    "BlueCircle = Circle()"
   ]
  },
  {
   "cell_type": "markdown",
   "metadata": {},
   "source": [
    "As before, we can access the attributes of the instance of the class by using the dot notation:\n"
   ]
  },
  {
   "cell_type": "code",
   "execution_count": 15,
   "metadata": {},
   "outputs": [
    {
     "data": {
      "text/plain": [
       "3"
      ]
     },
     "execution_count": 15,
     "metadata": {},
     "output_type": "execute_result"
    }
   ],
   "source": [
    "# Print the object attribute radius\n",
    "\n",
    "BlueCircle.radius"
   ]
  },
  {
   "cell_type": "code",
   "execution_count": 12,
   "metadata": {},
   "outputs": [
    {
     "data": {
      "text/plain": [
       "'blue'"
      ]
     },
     "execution_count": 12,
     "metadata": {},
     "output_type": "execute_result"
    }
   ],
   "source": [
    "# Print the object attribute color\n",
    "\n",
    "BlueCircle.color"
   ]
  },
  {
   "cell_type": "markdown",
   "metadata": {},
   "source": [
    "We can draw the object by using the method <code>drawCircle()</code>:\n"
   ]
  },
  {
   "cell_type": "code",
   "execution_count": 16,
   "metadata": {},
   "outputs": [
    {
     "data": {
      "image/png": "iVBORw0KGgoAAAANSUhEUgAAAP0AAAD4CAYAAAAn+OBPAAAAOXRFWHRTb2Z0d2FyZQBNYXRwbG90bGliIHZlcnNpb24zLjMuNCwgaHR0cHM6Ly9tYXRwbG90bGliLm9yZy8QVMy6AAAACXBIWXMAAAsTAAALEwEAmpwYAAAXLElEQVR4nO3de5RWVf3H8fd3hgFJUEtGBURGl4IYCzNGMy9ZioqFWLLyEqXWr1AzNbOLd+VnSZmWK80KL8trXpaGoUgmGRdbSM7ooEx4JVMUcxIVRFNGvr8/9sxvEAZmmOc8Z5/znM9rrWfN1b2/jPOZvc9tb3N3RKQ4qmIXICLpUuhFCkahFykYhV6kYBR6kYLpFaPTAQMGeF1dXYyuRQqhsbHxP+5e29nXooS+rq6OhoaGGF2LFIKZ/WtDX9P0XqRgFHqRglHoRQpGoRcpGIVepGBKDr2ZbWZmfzezhWbWbGaTkyhMRMojiUt27wEHuvvbZlYDPGxmM939kQTaFpGElRx6D8/mvt32YU3bS8/rimRUIjfnmFk10AjsDPza3Rd08j2TgEkAO+ywQxLdSglWrIBly+CVVz78dtkyWLUKWls//Kqqgl69oKYmvO3TB2prYdAgGDjww29ra8Es9r9QNiSR0Lv7B8AnzGwrYJqZjXT3Ret8z1RgKkB9fb1mAil4/3148klobAyvp57qCPeqVeXrt6YGtt02/BHYcUf45Cdh9Ojw+uhHy9evdE+it+G6+5tmNhsYCyzq4tslQesGvKEBFi0Kn0/b6tWwdGl4Pfoo3Hlnx9d23DGEv75efwhiKTn0ZlYLrG4LfF9gDPCzkiuTLjU1wb33wowZ8PjjcQK+qf75z/C6666Oz+20Exx8MIwfDwcdFA4dpHySGOkHAje2HddXAXe6+30JtCvreP99mD0bpk8PYX/xxdgVJWPJEvjd78KrX7+OPwDjxsGAAbGrqzwWY2HM+vp611N23bN8Odx/fwj6Aw+EE3BFUVUFe+8d/gCMHw8jRsSuKD/MrNHd6zv9mkKfTXPmwNVXw7Rp4RhZwvH/ySfDV74CffvGribbNhZ63YabIStWwFVXwciR8NnPhhNgCnyHxkb45jdh8GA44wx45pnYFeWTQp8BTzwBJ50UfplPPRWam2NXlG1vvAFXXAG77hqO/6dNgw8+iF1Vfij0kaxZE0by/faD3XcPJ7Hefrvr/046uMOsWXDkkVBXBxdfHP4gyMYp9BHMmAF77AFHHw1/+1vsairD0qVwwQXh8t+UKfDOO7Eryi6FPkXz58NnPhMuRT3xROxqKtObb8I558DOO4fZU2tr7IqyR6FPQXMzHHEE7LMPzJsXu5piWLYsnCfZbbdwGKUtGzso9GX04ovw9a/DqFHhOruk79lnw2HUnnuG439R6Mti9WqYPBmGDYMbbggn7SSuxsZwpv/zn4eXXopdTVwKfcKamsKoctFF8N57sauRdc2cGe6DuPba2JXEo9AnZPXqEPS99oKFC2NXIxuzYgV861swdmwxR32FPgELF4awT56sO+jy5IEHwqh/3XWxK0mXQl+C9mP3PfcM03rJnxUrwq29RRr1FfoeWrw4jO4XXaTRvRK0j/o33RS7kvJT6HvgvvvgU5/S6F5pVqyA44+H006r7Hv5FfpNNGVKuNFm5crYlUi5XHllmO4vXx67kvJQ6Lvp3Xfh2GPDLZ667l75Zs0Ks7l//CN2JclT6Lth6VLYf3+4/fbYlUiannsurNxzX4Ut/qbQd2H+/HB2vrExdiUSw8qV4XBuypTYlSRHod+IG2+Ez30OXn01diUS05o14bDuK1+B//43djWlU+g34Ior4IQTdCutdLjtNjj88Pw/q6/Qd2LKlLAGm8i6Zs2Cww7L99UbhX4dF1wQpnIiGzJ3LhxyCLz1VuxKekahX8t554V11kS68sgjMGZMPoNfcujNbIiZ/dXMFptZs5mdnkRhafvxj+EnP4ldheRJQ0OY6udtQdMkRvpW4Ex3HwHsDZxiZrsl0G5qLrsMzj8/dhWSR/PnhzUP3303diXdV3Lo3X2Zuz/W9v5KYDEwuNR203L11fCDH8SuQvJszpxwLT8PG4hCwsf0ZlYH7AEs6ORrk8yswcwaWlpakuy2x/70p/BwhUipHnwQTjkldhXdk1jozawfcDfwXXdfb5tFd5/q7vXuXl9bW5tUtz329NNwzDGV/TSVpOvaa8PDOlmXSOjNrIYQ+Fvd/Q9JtFlOb74ZdkHN45lXybbvfQ/+8pfYVWxcEmfvDbgOWOzuvyi9pPJasyY8LafND6UcWlvhqKPg+edjV7JhSYz0+wJfAw40s6a21+cTaLcsfvjDcCwvUi7Ll2d7zYVepTbg7g8DlkAtZXfTTXD55bGrkCJoboaJE+Gee6AqY7fAZayc8lmwACZNil2FFMm992bz/o9ChP6NN2DCBD0xJ+m75JIQ/iwpROhPPx1efjl2FVJUJ54YBp6sqPjQ33sv3Hxz7CqkyJYty9ZNYBUd+jfeCH9lRWK75Zbs7Fxc0aE//fTwV1YkC046KRvT/IoNvab1kjVZmeZXZOg1rZesysI0vyJDf9ppmtZLdsU+m19xoX/wwfDXVCSrXn017hoOFRV693BvvUjW3XBD2Pk4hooK/e23aydZyYcPPoi36nLFhH716mze5yyyIffcE1bVTVvFhP6aa7L9DLNIZ846K/0+KyL0q1ZpvXrJpzlzYObMdPusiNBfcYU2mZT8OueccBI6LbkP/euvw6WXxq5CpOeamsLmmGnJfeinTIEV6629K5Iv558fTkanIdehX7kSfve72FWIlG7JEvhDSutI5zr0N92Uv33ERDbk6qvT6SfXof/Nb2JXIJKcuXPDgprlltvQz5mTzg9IJE1pjPa5DX1aUyGRNN18c/kPWXMZ+ldfhWnTYlchkryVK8u/+EtSe9ldb2avmdmiJNrryjXXpHd5QyRt5T5XldRIfwMwNqG2NuqDD2Dq1DR6EonjySdh3rzytZ9I6N19LrA8iba6ct99sHRpGj2JxFPO0T61Y3ozm2RmDWbW0NLS0uN27rwzwaJEMmr69PLtyJRa6N19qrvXu3t9bW1tj9pobU3/iSSRGFatgoceKk/buTp7P29eNtYNF0lDuVbNzVXoYy8dLJKmcm18mdQlu9uA+cBwM1tqZv+TRLvrUuilSF5+GRobk2+3VxKNuPuxSbSzMc3N4UkkkSKZPh1Gj062zdxM7zXKSxGV4/c+N6Ev1/GNSJY1NcFLLyXbZi5C/9prsGBB7CpE4kh6wMtF6OfOhTVrYlchEsfs2cm2l4vQl+MMpkheJP37r9CLZNySJcnelKbQi+TAY48l11bmQ//CC7A8lef3RLIryYEv86FvaIhdgUh8SeYg86HX1F6kYCO9Qi+S7Mk8hV4kJ5I6mZfp0C9dqpN4Iu2ampJpJ9OhT/qeY5E8S2ptyEyH/pVXYlcgkh1J5SHToV+2LHYFItmRVB4yHXqN9CIdNNKLFIxGepGCeecdeOut0tvJdOg10ot8WBKZyHToNdKLfFgSmchs6N9/H15/PXYVItlS0SO9drIRWV8Sd6hmNvTaf15kfUnkIqkdbsaa2dNm9pyZnZVEm62tSbQiUlmSyEXJoTezauDXwGHAbsCxZrZbqe1qpBdZX1ZG+r2A59x9ibu/D9wOHFFqoxrpRdaXiZEeGAys/Tzc0rbPfYiZTTKzBjNraGlpSaBbkeJxL72NJEJvnXxuvdLcfaq717t7fW1tbZeN9kpka02RylJTU3obSYR+KTBkrY+3B0q+hUChF1lfErlIIvSPAruY2Y5m1hs4Bih5r02FXmR9SeSi5CbcvdXMvgM8AFQD17t7c6ntJjGNEak0SeQikfHU3e8H7k+irXZbbplkayKVIYlcZPaOvL59FXyRdQ0cWHobmQ09wKBBsSsQyZYkMpHp0CfxV02kkmikFymQPn1g661LbyfToddIL9Jhu+2SaSfToddIL9IhqTxkOvQa6UU6JJWHTIdeI71Ih0KM9IPXe1ZPpLgKEfq6OujXL3YVItkwalQy7WQ69FVVsMcesasQyYbRo5NpJ9Ohh+T+oSJ5NmhQQS7ZgUIvAsnmQKEXyYFChX74cJ3MEylU6HUyTwTq65NrK/OhB03xpdiSPIkHCr1I5iX9+5+L0O+3X+wKROJJ+vc/F6Gvq4ORI2NXIRLH4Ycn214uQg8wfnzsCkTSt8suMGJEsm0q9CIZlvQoDzkK/V57JXsGUyQPyjHY5Sb0ZjBuXOwqRNLzsY+V5yR2SaE3sy+bWbOZrTGzBG8f6Fw5pjoiWXXYYVBdnXy7pY70i4AjgbkJ1NKlgw8Om2CIFEG5zmOVFHp3X+zuTydVTFf69oUxY9LqTSSe3r1h7NjytJ3aMb2ZTTKzBjNraGlp6XE7EyYkWJRIRo0ZA1tsUZ62uwy9mc0ys0WdvI7YlI7cfaq717t7fW1tbY8LPuoo+OhHe/yfi+TCiSeWr+0ud61190xNqPv2hRNOgF/+MnYlIuUxdGh5r1Tl5pLd2k4+OVzCE6lEkyaFR8rLpdRLdl8ys6XAp4EZZvZAMmVt3C676ISeVKbeveGb3yxvH6WevZ/m7tu7ex9339bdD02qsK58+9tp9SSSngkTYJttyttHLqf3EG7UGTIkdhUiyUpjMMtt6Kurw7GPSKUYNSqdtSNyG3qAb30LampiVyGSjJNPTqefXId+223h2GNjVyFSugED4KtfTaevXIceYPLkcMZTJM/OPTe9pd5zH/q6OjjppNhViPTc0KHpTe2hAkIPcN552hBD8mvyZOjTJ73+KiL0tbVw5pmxqxDZdCNHwte+lm6fFRF6CKEv4TkekSguuaS8t9x2pmJC379/OBkikhf77htnNaiKCT2EkyF1dbGrEOmen/40Tr8VFfreveHii2NXIdK1cePi7dxUUaEHmDgRDjwwdhUiG9avH1x5Zbz+Ky70ZnDddbqEJ9l16aVxD0MrLvQQfqCXXhq7CpH1HXhg/JvJKjL0EH6wmuZLlvTrF2ahsVd9qtjQa5ovWRN7Wt+uYkMP4Qf885/HrkIkG9P6dhUdeghLCR90UOwqpMiyMq1vV/Ghb5/m9+8fuxIpqqxM69tVfOghPLp4ww3Z+UsrxXHssek+NtsdhQg9wJFHwoUXxq5CimT06DDLzJrChB7gggu0F56kY7vt4J57srnLcqFCbwY33gi77x67EqlkffrAtGmw/faxK+lcqTvc/NzMnjKzJ8xsmpltlVBdZbP55vDHP+rZeymf3/4W9t47dhUbVupI/yAw0t1HAc8AZ5deUvkNHQp3363lsyV5Z5wRNljNslK3tfqzu7e2ffgIkNEJzfr23x+uuip2FVJJDjkkHzeDJXlM/w1g5oa+aGaTzKzBzBpaWloS7LbnJk0Kf5lFSvXxj8Mdd4Sdl7Kuy9Cb2SwzW9TJ64i1vudcoBW4dUPtuPtUd6939/raDB1QX3552ClHpKeGDYO//AW22ip2Jd3Tq6tvcPeNbgptZscD44CD3N2TKiwtZuHEy3vvwU03xa5G8manneChh8JuS3nRZeg3xszGAj8CDnD3d5IpKX1VVXD99SH4d9wRuxrJiyFDQuAHD45dyaYp9Zj+KqA/8KCZNZnZbxOoKYrqarjlFu2NJ91TVwdz5oQrQXlT0kjv7jsnVUgW9OoVgt+nT7hXX6QzO+8cRvghQ2JX0jOFuiOvO9qn+ieeGLsSyaIRI2Du3PwGHhT6TrWf3DvrrNiVSJZ86lMwezYMHBi7ktIo9BsxZUqY7m+2WexKJLbjjgvH8NtsE7uS0in0XZg4MUzn8naGVpJRXQ2XXRYe1EpzZ9lyUui7Yc894dFHw/ROimOrrWDGjMrbEVmh76aBA8P07rjjYlciaRg+HBYsgEMPjV1J8hT6TdCnT5jmXXZZPu6xlp4ZOzYEftiw2JWUh0LfA2eeGaZ9lXBSRzpUVYUrNjNmwJZbxq6mfBT6Hjr0UGhuhqOPjl2JJGH4cHj44XDFpqrCU1Hh/7zyGjAAbr8d7rpLo35eVVWFmVtTE3z607GrSYdCn4AJEzTq51H76H7ZZcW6F0OhT4hG/fwo4ui+NoU+YRr1s23YMJg3r3ij+9oU+jJoH/Vnz872qqhFss028KtfwZNPwj77xK4mLoW+jA44AObPD2ugjxgRu5pi6t8fJk+G55+HU0+F3r1jVxSfQp+CL34xjDDXX5/vRzLzpE8f+O53YcmSsLNRv36xK8oOhT4l1dXw9a/DM8+E48mtt45dUWWqqoLjj4enn4Zf/jIcasmHKfQp22yzcOb4+efhoovCnmdSut69w1JnCxeGVY/yuIxVWhT6SLbcMuyi++KLYTHOAw6IXVE+DR0Kl1wCL70Ev/89jBwZu6LsU+gjq6mBo44KZ/qbm+GUU2CLLWJXlW1m4aGY6dPDMfvZZ+veiE2h0GfIbruFrbZefhl+8xsYNSp2Rdmy9dbw/e/Ds8/CzJlw+OGVf598OViM/Snq6+u9oaEh9X7z6NFHwy6706eHKwBFU1sLX/gCjB8Phx1W3BtqNpWZNbp7fadfU+jz44UXQvinTw9LeK1eHbui8hgxIoR8/Phwc5NG802n0Fegt94KU9x77w1v33gjdkU916sX7LtvR9B3rqjdFOLYWOhL3dbqYuAIYA3wGnCCu79SSpvSPVtuCcccE15r1oTr/42NHa/HH4eVK2NXub7q6jCS19fD6NHhtfvu8JGPxK6sOEoa6c1sC3df0fb+acBu7n5SV/+dRvry6+wPwVNPQUsLpDW5698/bP/UHm4FPD1lG+nbA99mcyB3u9ZWqqoq2HXX8Jo4sePzq1fDv/8Nr7wCy5at/3bZMli1ClpbP/yqqgrT8Jqa8LZ373CZbNCgsGhoZ2833zzev182rKTQA5jZT4DjgLeAz23k+yYBkwB22GGHUruVHqqpge23Dy8ppi6n92Y2C+jsZtFz3f2Pa33f2cBm7n5hV51qei9SXiVN7919TDf7+T0wA+gy9CIST0lXQM1sl7U+HA88VVo5IlJupR7T/9TMhhMu2f0L6PLMvYjEVerZ+wlJFSIi6dANjiIFo9CLFIxCL1IwCr1IwUR5ys7MWghn+7syAPhPmctRDaqhEmsY6u61nX0hSui7y8waNnRXkWpQDaqhZzS9FykYhV6kYLIe+qmxC0A1tFMNQe5ryPQxvYgkL+sjvYgkTKEXKZjMh97MLjazJ8ysycz+bGaDItTwczN7qq2OaWa2Vcr9f9nMms1sjZmlernIzMaa2dNm9pyZnZVm32vVcL2ZvWZmiyL1P8TM/mpmi9v+P5weoYbNzOzvZrawrYbJPW7M3TP9ArZY6/3TgN9GqOEQoFfb+z8DfpZy/yOA4cBsoD7FfquB54GdgN7AQsLip2n//D8DfBJYlHbfbf0PBD7Z9n5/4Jm0fw6AAf3a3q8BFgB796StzI/0noHFN939z+7e2vbhI0CqK8y5+2J3fzrNPtvsBTzn7kvc/X3gdsKS56ly97nA8rT7Xav/Ze7+WNv7K4HFwOCUa3B3f7vtw5q2V4+ykPnQQ1h808xeAiYCF0Qu5xvAzMg1pGUw8NJaHy8l5V/2rDGzOmAPwkibdt/VZtZE2GPiQXfvUQ2ZCL2ZzTKzRZ28jgBw93PdfQhwK/CdGDW0fc+5QGtbHan3H4F18rnCXuM1s37A3cB315mBpsLdP3D3TxBmmnuZWY825i55CewkeAYW3+yqBjM7HhgHHORtB1Zp9h/JUmDIWh9vDxRyByMzqyEE/lZ3/0PMWtz9TTObDYwFNvnkZiZG+o3JwuKbZjYW+BEw3t3fSbv/iB4FdjGzHc2sN3AMMD1yTakzMwOuAxa7+y8i1VDbftXIzPoCY+hhFjJ/R56Z3U04c/3/i2+6+8sp1/Ac0Ad4ve1Tj3g3tu9KsP8vAVcCtcCbQJO7H5pS358HriCcyb/e3X+SRr/r1HAb8FnCI6X/Bi509+tS7H8/YB7wJOH3EOAcd78/xRpGATcS/j9UAXe6+//2qK2sh15EkpX56b2IJEuhFykYhV6kYBR6kYJR6EUKRqEXKRiFXqRg/g8qF2okGsZ9yAAAAABJRU5ErkJggg==\n",
      "text/plain": [
       "<Figure size 432x288 with 1 Axes>"
      ]
     },
     "metadata": {
      "needs_background": "light"
     },
     "output_type": "display_data"
    }
   ],
   "source": [
    "# Call the method drawCircle\n",
    "\n",
    "BlueCircle.drawCircle()"
   ]
  },
  {
   "cell_type": "markdown",
   "metadata": {},
   "source": [
    "Compare the x and y axis of the figure to the figure for <code>RedCircle</code>; they are different.\n"
   ]
  },
  {
   "cell_type": "markdown",
   "metadata": {},
   "source": [
    "<hr>\n"
   ]
  },
  {
   "cell_type": "markdown",
   "metadata": {},
   "source": [
    "<h2 id=\"rect\">The Rectangle Class</h2>\n"
   ]
  },
  {
   "cell_type": "markdown",
   "metadata": {},
   "source": [
    "Let's create a class rectangle with the attributes of height, width, and color. We will only add the method to draw the rectangle object:\n"
   ]
  },
  {
   "cell_type": "code",
   "execution_count": 17,
   "metadata": {
    "tags": []
   },
   "outputs": [],
   "source": [
    "# Create a new Rectangle class for creating a rectangle object\n",
    "\n",
    "class Rectangle(object):\n",
    "    \n",
    "    # Constructor\n",
    "    def __init__(self, width=2, height=3, color='r'):\n",
    "        self.height = height \n",
    "        self.width = width\n",
    "        self.color = color\n",
    "    \n",
    "    # Method\n",
    "    def drawRectangle(self):\n",
    "        plt.gca().add_patch(plt.Rectangle((0, 0), self.width, self.height ,fc=self.color))\n",
    "        plt.axis('scaled')\n",
    "        plt.show()\n",
    "        "
   ]
  },
  {
   "cell_type": "markdown",
   "metadata": {},
   "source": [
    "Let’s create the object <code>SkinnyBlueRectangle</code> of type Rectangle. Its width will be 2 and height will be 3, and the color will be blue:\n"
   ]
  },
  {
   "cell_type": "code",
   "execution_count": 19,
   "metadata": {},
   "outputs": [],
   "source": [
    "# Create a new object rectangle\n",
    "\n",
    "SkinnyBlueRectangle = Rectangle(2, 10, 'blue')"
   ]
  },
  {
   "cell_type": "markdown",
   "metadata": {},
   "source": [
    "As before we can access the attributes of the instance of the class by using the dot notation:\n"
   ]
  },
  {
   "cell_type": "code",
   "execution_count": null,
   "metadata": {},
   "outputs": [],
   "source": [
    "# Print the object attribute height\n",
    "\n",
    "SkinnyBlueRectangle.height "
   ]
  },
  {
   "cell_type": "code",
   "execution_count": null,
   "metadata": {},
   "outputs": [],
   "source": [
    "# Print the object attribute width\n",
    "\n",
    "SkinnyBlueRectangle.width"
   ]
  },
  {
   "cell_type": "code",
   "execution_count": null,
   "metadata": {},
   "outputs": [],
   "source": [
    "# Print the object attribute color\n",
    "\n",
    "SkinnyBlueRectangle.color"
   ]
  },
  {
   "cell_type": "markdown",
   "metadata": {},
   "source": [
    "We can draw the object:\n"
   ]
  },
  {
   "cell_type": "code",
   "execution_count": 20,
   "metadata": {
    "scrolled": true
   },
   "outputs": [
    {
     "data": {
      "image/png": "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\n",
      "text/plain": [
       "<Figure size 432x288 with 1 Axes>"
      ]
     },
     "metadata": {
      "needs_background": "light"
     },
     "output_type": "display_data"
    }
   ],
   "source": [
    "# Use the drawRectangle method to draw the shape\n",
    "\n",
    "SkinnyBlueRectangle.drawRectangle()"
   ]
  },
  {
   "cell_type": "markdown",
   "metadata": {},
   "source": [
    "Let’s create the object <code>FatYellowRectangle</code> of type Rectangle:\n"
   ]
  },
  {
   "cell_type": "code",
   "execution_count": 21,
   "metadata": {
    "tags": []
   },
   "outputs": [],
   "source": [
    "# Create a new object rectangle\n",
    "\n",
    "FatYellowRectangle = Rectangle(20, 5, 'yellow')"
   ]
  },
  {
   "cell_type": "markdown",
   "metadata": {},
   "source": [
    "We can access the attributes of the instance of the class by using the dot notation:\n"
   ]
  },
  {
   "cell_type": "code",
   "execution_count": null,
   "metadata": {},
   "outputs": [],
   "source": [
    "# Print the object attribute height\n",
    "\n",
    "FatYellowRectangle.height "
   ]
  },
  {
   "cell_type": "code",
   "execution_count": null,
   "metadata": {},
   "outputs": [],
   "source": [
    "# Print the object attribute width\n",
    "\n",
    "FatYellowRectangle.width"
   ]
  },
  {
   "cell_type": "code",
   "execution_count": null,
   "metadata": {},
   "outputs": [],
   "source": [
    "# Print the object attribute color\n",
    "\n",
    "FatYellowRectangle.color"
   ]
  },
  {
   "cell_type": "markdown",
   "metadata": {},
   "source": [
    "We can draw the object:\n"
   ]
  },
  {
   "cell_type": "code",
   "execution_count": 22,
   "metadata": {},
   "outputs": [
    {
     "data": {
      "image/png": "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\n",
      "text/plain": [
       "<Figure size 432x288 with 1 Axes>"
      ]
     },
     "metadata": {
      "needs_background": "light"
     },
     "output_type": "display_data"
    }
   ],
   "source": [
    "# Use the drawRectangle method to draw the shape\n",
    "\n",
    "FatYellowRectangle.drawRectangle()"
   ]
  },
  {
   "cell_type": "markdown",
   "metadata": {},
   "source": [
    "<hr>\n"
   ]
  },
  {
   "cell_type": "markdown",
   "metadata": {},
   "source": [
    "<h2 id=\"rect\">Exercises</h2>\n"
   ]
  },
  {
   "cell_type": "markdown",
   "metadata": {},
   "source": [
    "<h4> Text Analysis </h4>\n"
   ]
  },
  {
   "cell_type": "markdown",
   "metadata": {},
   "source": [
    "You have been recruited by your friend, a linguistics enthusiast, to create a utility tool that can perform analysis on a given piece of text. Complete the class\n",
    "'analysedText' with the following methods -\n",
    "\n",
    "<ul>\n",
    "    <li> Constructor - Takes argument 'text',makes it lower case and removes all punctuation. Assume only the following punctuation is used - period (.), exclamation mark (!), comma (,) and question mark (?). Store the argument in \"fmtText\"      \n",
    "    <li> freqAll - returns a dictionary of all unique words in the text along with the number of their occurences.\n",
    "    <li> freqOf - returns the frequency of the word passed in argument.\n",
    "</ul>\n",
    " The skeleton code has been given to you. Docstrings can be ignored for the purpose of the exercise. <br>\n",
    " <i> Hint: Some useful functions are <code>replace()</code>, <code>lower()</code>, <code>split()</code>, <code>count()</code> </i><br>\n"
   ]
  },
  {
   "cell_type": "code",
   "execution_count": 34,
   "metadata": {},
   "outputs": [],
   "source": [
    "class analysedText(object):\n",
    "    \n",
    "    def __init__ (self, text):\n",
    "        #Takes argument 'text',makes it lower case\n",
    "        textformat=text.lower()\n",
    "        \n",
    "        # Remove puntuation\n",
    "        finaltext=textformat.replace(\".\",\"\").replace(\"!\",\"\").replace(\",\",\"\").replace(\"?\",\"\")\n",
    "    \n",
    "        # Store as fmtText\n",
    "        self.fmtText=finaltext\n",
    "        \n",
    "    def freqAll(self):        \n",
    "        pass\n",
    "    \n",
    "    def freqOf(self,word):\n",
    "        pass\n",
    "        "
   ]
  },
  {
   "cell_type": "markdown",
   "metadata": {},
   "source": [
    "Execute the block below to check your progress.\n"
   ]
  },
  {
   "cell_type": "code",
   "execution_count": 35,
   "metadata": {},
   "outputs": [
    {
     "name": "stdout",
     "output_type": "stream",
     "text": [
      "Constructor: \n",
      "Test Passed\n",
      "freqAll: \n",
      "Test Failed\n",
      "freqOf: \n",
      "Test Failed\n"
     ]
    }
   ],
   "source": [
    "import sys\n",
    "\n",
    "sampleMap = {'eirmod': 1,'sed': 1, 'amet': 2, 'diam': 5, 'consetetur': 1, 'labore': 1, 'tempor': 1, 'dolor': 1, 'magna': 2, 'et': 3, 'nonumy': 1, 'ipsum': 1, 'lorem': 2}\n",
    "\n",
    "def testMsg(passed):\n",
    "    if passed:\n",
    "       return 'Test Passed'\n",
    "    else :\n",
    "       return 'Test Failed'\n",
    "\n",
    "print(\"Constructor: \")\n",
    "try:\n",
    "    samplePassage = analysedText(\"Lorem ipsum dolor! diam amet, consetetur Lorem magna. sed diam nonumy eirmod tempor. diam et labore? et diam magna. et diam amet.\")\n",
    "    print(testMsg(samplePassage.fmtText == \"lorem ipsum dolor diam amet consetetur lorem magna sed diam nonumy eirmod tempor diam et labore et diam magna et diam amet\"))\n",
    "except:\n",
    "    print(\"Error detected. Recheck your function \" )\n",
    "print(\"freqAll: \")\n",
    "try:\n",
    "    wordMap = samplePassage.freqAll()\n",
    "    print(testMsg(wordMap==sampleMap))\n",
    "except:\n",
    "    print(\"Error detected. Recheck your function \" )\n",
    "print(\"freqOf: \")\n",
    "try:\n",
    "    passed = True\n",
    "    for word in sampleMap:\n",
    "        if samplePassage.freqOf(word) != sampleMap[word]:\n",
    "            passed = False\n",
    "            break\n",
    "    print(testMsg(passed))\n",
    "    \n",
    "except:\n",
    "    print(\"Error detected. Recheck your function  \" )\n",
    "    "
   ]
  },
  {
   "cell_type": "markdown",
   "metadata": {},
   "source": [
    "<details><summary>Click here for the solution</summary>\n",
    "\n",
    "```python\n",
    "class analysedText(object):\n",
    "    \n",
    "    def __init__ (self, text):\n",
    "        # remove punctuation\n",
    "        formattedText = text.replace('.','').replace('!','').replace('?','').replace(',','')\n",
    "        \n",
    "        # make text lowercase\n",
    "        formattedText = formattedText.lower()\n",
    "        \n",
    "        self.fmtText = formattedText\n",
    "        \n",
    "    def freqAll(self):        \n",
    "        # split text into words\n",
    "        wordList = self.fmtText.split(' ')\n",
    "        \n",
    "        # Create dictionary\n",
    "        freqMap = {}\n",
    "        for word in set(wordList): # use set to remove duplicates in list\n",
    "            freqMap[word] = wordList.count(word)\n",
    "        \n",
    "        return freqMap\n",
    "    \n",
    "    def freqOf(self,word):\n",
    "        # get frequency map\n",
    "        freqDict = self.freqAll()\n",
    "        \n",
    "        if word in freqDict:\n",
    "            return freqDict[word]\n",
    "        else:\n",
    "            return 0\n",
    "    \n",
    "```\n",
    "\n",
    "</details>\n"
   ]
  },
  {
   "cell_type": "markdown",
   "metadata": {},
   "source": [
    "<hr>\n",
    "<h2>The last exercise!</h2>\n",
    "<p>Congratulations, you have completed your first lesson and hands-on lab in Python. However, there is one more thing you need to do. The Data Science community encourages sharing work. The best way to share and showcase your work is to share it on GitHub. By sharing your notebook on GitHub you are not only building your reputation with fellow data scientists, but you can also show it off when applying for a job. Even though this was your first piece of work, it is never too early to start building good habits. So, please read and follow <a href=\"https://cognitiveclass.ai/blog/data-scientists-stand-out-by-sharing-your-notebooks/?utm_medium=Exinfluencer&utm_source=Exinfluencer&utm_content=000026UJ&utm_term=10006555&utm_id=NA-SkillsNetwork-Channel-SkillsNetworkCoursesIBMDeveloperSkillsNetworkPY0101ENSkillsNetwork19487395-2021-01-01\" target=\"_blank\">this article</a> to learn how to share your work.\n",
    "<hr>\n"
   ]
  },
  {
   "cell_type": "markdown",
   "metadata": {},
   "source": [
    "## Author\n",
    "\n",
    "<a href=\"https://www.linkedin.com/in/joseph-s-50398b136/?utm_medium=Exinfluencer&utm_source=Exinfluencer&utm_content=000026UJ&utm_term=10006555&utm_id=NA-SkillsNetwork-Channel-SkillsNetworkCoursesIBMDeveloperSkillsNetworkPY0101ENSkillsNetwork19487395-2021-01-01\" target=\"_blank\">Joseph Santarcangelo</a>\n",
    "\n",
    "## Other contributors\n",
    "\n",
    "<a href=\"https://www.linkedin.com/in/jiahui-mavis-zhou-a4537814a?utm_medium=Exinfluencer&utm_source=Exinfluencer&utm_content=000026UJ&utm_term=10006555&utm_id=NA-SkillsNetwork-Channel-SkillsNetworkCoursesIBMDeveloperSkillsNetworkPY0101ENSkillsNetwork19487395-2021-01-01\">Mavis Zhou</a>\n",
    "\n",
    "## Change Log\n",
    "\n",
    "| Date (YYYY-MM-DD) | Version | Changed By | Change Description                 |\n",
    "| ----------------- | ------- | ---------- | ---------------------------------- |\n",
    "| 2020-08-26        | 2.0     | Lavanya    | Moved lab to course repo in GitLab |\n",
    "|                   |         |            |                                    |\n",
    "|                   |         |            |                                    |\n",
    "\n",
    "<hr/>\n",
    "\n",
    "## <h3 align=\"center\"> © IBM Corporation 2020. All rights reserved. <h3/>\n"
   ]
  }
 ],
 "metadata": {
  "kernelspec": {
   "display_name": "Python",
   "language": "python",
   "name": "conda-env-python-py"
  },
  "language_info": {
   "codemirror_mode": {
    "name": "ipython",
    "version": 3
   },
   "file_extension": ".py",
   "mimetype": "text/x-python",
   "name": "python",
   "nbconvert_exporter": "python",
   "pygments_lexer": "ipython3",
   "version": "3.6.13"
  }
 },
 "nbformat": 4,
 "nbformat_minor": 4
}
rce":["<center>\n","    <img src=\"https://cf-courses-data.s3.us.cloud-object-storage.appdomain.cloud/IBMDeveloperSkillsNetwork-PY0101EN-SkillsNetwork/IDSNlogo.png\" width=\"300\" alt=\"cognitiveclass.ai logo\"  />\n","</center>\n","\n","# Classes and Objects in Python\n","\n","Estimated time needed: **40** minutes\n","\n","## Objectives\n","\n","After completing this lab you will be able to:\n","\n","*   Work with classes and objects\n","*   Identify and define attributes and methods\n"]},{"cell_type":"markdown","metadata":{},"source":["<h2>Table of Contents</h2>\n","<div class=\"alert alert-block alert-info\" style=\"margin-top: 20px\">\n","    <ul>\n","        <li>\n","            <a href=\"https://#intro\">Introduction to Classes and Objects</a>\n","            <ul>\n","                <li><a href=\"https://create/?utm_medium=Exinfluencer&utm_source=Exinfluencer&utm_content=000026UJ&utm_term=10006555&utm_id=NA-SkillsNetwork-Channel-SkillsNetworkCoursesIBMDeveloperSkillsNetworkPY0101ENSkillsNetwork19487395-2021-01-01\">Creating a class</a></li>\n","                <li><a href=\"https://instance/?utm_medium=Exinfluencer&utm_source=Exinfluencer&utm_content=000026UJ&utm_term=10006555&utm_id=NA-SkillsNetwork-Channel-SkillsNetworkCoursesIBMDeveloperSkillsNetworkPY0101ENSkillsNetwork19487395-2021-01-01\">Instances of a Class: Objects and Attributes</a></li>\n","                <li><a href=\"https://method/?utm_medium=Exinfluencer&utm_source=Exinfluencer&utm_content=000026UJ&utm_term=10006555&utm_id=NA-SkillsNetwork-Channel-SkillsNetworkCoursesIBMDeveloperSkillsNetworkPY0101ENSkillsNetwork19487395-2021-01-01\">Methods</a></li>\n","            </ul>\n","        </li>\n","        <li><a href=\"https://creating/?utm_medium=Exinfluencer&utm_source=Exinfluencer&utm_content=000026UJ&utm_term=10006555&utm_id=NA-SkillsNetwork-Channel-SkillsNetworkCoursesIBMDeveloperSkillsNetworkPY0101ENSkillsNetwork19487395-2021-01-01\">Creating a class</a></li>\n","        <li><a href=\"https://circle/?utm_medium=Exinfluencer&utm_source=Exinfluencer&utm_content=000026UJ&utm_term=10006555&utm_id=NA-SkillsNetwork-Channel-SkillsNetworkCoursesIBMDeveloperSkillsNetworkPY0101ENSkillsNetwork19487395-2021-01-01\">Creating an instance of a class Circle</a></li>\n","        <li><a href=\"https://rect/?utm_medium=Exinfluencer&utm_source=Exinfluencer&utm_content=000026UJ&utm_term=10006555&utm_id=NA-SkillsNetwork-Channel-SkillsNetworkCoursesIBMDeveloperSkillsNetworkPY0101ENSkillsNetwork19487395-2021-01-01\">The Rectangle Class</a></li>\n","    </ul>\n","\n","</div>\n","\n","<hr>\n"]},{"cell_type":"markdown","metadata":{},"source":["<h2 id=\"intro\">Introduction to Classes and Objects</h2>\n"]},{"cell_type":"markdown","metadata":{},"source":["<h3>Creating a Class</h3>\n"]},{"cell_type":"markdown","metadata":{},"source":["The first step in creating a class is giving it a name. In this notebook, we will create two classes: Circle and Rectangle. We need to determine all the data that make up that class, which we call <em>attributes</em>. Think about this step as creating a blue print that we will use to create objects. In figure 1 we see two classes, Circle and Rectangle. Each has their attributes, which are variables. The class Circle has the attribute radius and color, while the Rectangle class has the attribute height and width. Let’s use the visual examples of these shapes before we get to the code, as this will help you get accustomed to the vocabulary.\n"]},{"cell_type":"markdown","metadata":{},"source":["<img src=\"https://cf-courses-data.s3.us.cloud-object-storage.appdomain.cloud/IBMDeveloperSkillsNetwork-PY0101EN-SkillsNetwork/labs/Module%203/images/ClassesClass.png\" width=\"500\" />\n"]},{"cell_type":"markdown","metadata":{},"source":["<i>Figure 1: Classes circle and rectangle, and each has their own attributes. The class Circle has the attribute radius and colour, the class Rectangle has the attributes height and width.</i>\n"]},{"cell_type":"markdown","metadata":{},"source":["<h3 id=\"instance\">Instances of a Class: Objects and Attributes</h3>\n"]},{"cell_type":"markdown","metadata":{},"source":["An instance of an object is the realisation of a class, and in Figure 2 we see three instances of the class circle. We give each object a name: red circle, yellow circle, and green circle. Each object has different attributes, so let's focus on the color attribute for each object.\n"]},{"cell_type":"markdown","metadata":{},"source":["<img src=\"https://cf-courses-data.s3.us.cloud-object-storage.appdomain.cloud/IBMDeveloperSkillsNetwork-PY0101EN-SkillsNetwork/labs/Module%203/images/ClassesObj.png\" width=\"500\" />\n"]},{"cell_type":"markdown","metadata":{},"source":["<i>Figure 2: Three instances of the class Circle, or three objects of type Circle.</i>\n"]},{"cell_type":"markdown","metadata":{},"source":["The colour attribute for the red Circle is the colour red, for the green Circle object the colour attribute is green, and for the yellow Circle the colour attribute is yellow.\n"]},{"cell_type":"markdown","metadata":{},"source":["<h3 id=\"method\">Methods</h3>\n"]},{"cell_type":"markdown","metadata":{},"source":["Methods give you a way to change or interact with the object; they are functions that interact with objects. For example, let’s say we would like to increase the radius of a circle by a specified amount. We can create a method called **add_radius(r)** that increases the radius by **r**. This is shown in figure 3, where after applying the method to the \"orange circle object\", the radius of the object increases accordingly. The “dot” notation means to apply the method to the object, which is essentially applying a function to the information in the object.\n"]},{"cell_type":"markdown","metadata":{},"source":["<img src=\"https://cf-courses-data.s3.us.cloud-object-storage.appdomain.cloud/IBMDeveloperSkillsNetwork-PY0101EN-SkillsNetwork/labs/Module%203/images/ClassesMethod.png\" width=\"500\" /> \n"]},{"cell_type":"markdown","metadata":{},"source":["<i>Figure 3: Applying the method “add_radius” to the object orange circle object.</i>\n"]},{"cell_type":"markdown","metadata":{},"source":["<hr>\n"]},{"cell_type":"markdown","metadata":{},"source":["<h2 id=\"creating\">Creating a Class</h2>\n"]},{"cell_type":"markdown","metadata":{},"source":["Now we are going to create a class Circle, but first, we are going to import a library to draw the objects:\n"]},{"cell_type":"code","execution_count":null,"metadata":{"jupyter":{"outputs_hidden":true}},"outputs":[],"source":["# Import the library\n","\n","import matplotlib.pyplot as plt\n","%matplotlib inline  "]},{"cell_type":"markdown","metadata":{},"source":["The first step in creating your own class is to use the <code>class</code> keyword, then the name of the class as shown in Figure 4. In this course the class parent will always be object:\n"]},{"cell_type":"markdown","metadata":{},"source":["<img src=\"https://cf-courses-data.s3.us.cloud-object-storage.appdomain.cloud/IBMDeveloperSkillsNetwork-PY0101EN-SkillsNetwork/labs/Module%203/images/ClassesDefine.png\" width=\"400\" />\n"]},{"cell_type":"markdown","metadata":{},"source":["<i>Figure 4: Creating a class Circle.</i>\n"]},{"cell_type":"markdown","metadata":{},"source":["The next step is a special method called a constructor <code>\\__init\\_\\_</code>, which is used to initialize the object. The inputs are data attributes. The term <code>self</code> contains all the attributes in the set. For example the <code>self.color</code> gives the value of the attribute color and <code>self.radius</code> will give you the radius of the object. We also have the method <code>add_radius()</code> with the parameter <code>r</code>, the method adds the value of <code>r</code> to the attribute radius. To access the radius we use the syntax <code>self.radius</code>. The labeled syntax is summarized in Figure 5:\n"]},{"cell_type":"markdown","metadata":{},"source":["<img src=\"https://cf-courses-data.s3.us.cloud-object-storage.appdomain.cloud/IBMDeveloperSkillsNetwork-PY0101EN-SkillsNetwork/labs/Module%203/images/ClassesCircle.png\" width=\"600\" />\n"]},{"cell_type":"markdown","metadata":{},"source":["<i>Figure 5: Labeled syntax of the object circle.</i>\n"]},{"cell_type":"markdown","metadata":{},"source":["The actual object is shown below. We include the method <code>drawCircle</code> to display the image of a circle. We set the default radius to 3 and the default colour to blue:\n"]},{"cell_type":"code","execution_count":null,"metadata":{},"outputs":[],"source":["# Create a class Circle\n","\n","class Circle(object):\n","    \n","    # Constructor\n","    def __init__(self, radius=3, color='blue'):\n","        self.radius = radius\n","        self.color = color \n","    \n","    # Method\n","    def add_radius(self, r):\n","        self.radius = self.radius + r\n","        return(self.radius)\n","    \n","    # Method\n","    def drawCircle(self):\n","        plt.gca().add_patch(plt.Circle((0, 0), radius=self.radius, fc=self.color))\n","        plt.axis('scaled')\n","        plt.show()  "]},{"cell_type":"markdown","metadata":{},"source":["<hr>\n"]},{"cell_type":"markdown","metadata":{},"source":["<h2 id=\"circle\">Creating an instance of a class Circle</h2>\n"]},{"cell_type":"markdown","metadata":{},"source":["Let’s create the object <code>RedCircle</code> of type Circle to do the following:\n"]},{"cell_type":"code","execution_count":null,"metadata":{},"outputs":[],"source":["# Create an object RedCircle\n","\n","RedCircle = Circle(10, 'red')"]},{"cell_type":"markdown","metadata":{},"source":["We can use the <code>dir</code> command to get a list of the object's methods. Many of them are default Python methods.\n"]},{"cell_type":"code","execution_count":null,"metadata":{},"outputs":[],"source":["# Find out the methods can be used on the object RedCircle\n","\n","dir(RedCircle)"]},{"cell_type":"markdown","metadata":{},"source":["We can look at the data attributes of the object:\n"]},{"cell_type":"code","execution_count":null,"metadata":{},"outputs":[],"source":["# Print the object attribute radius\n","\n","RedCircle.radius"]},{"cell_type":"code","execution_count":null,"metadata":{},"outputs":[],"source":["# Print the object attribute color\n","\n","RedCircle.color"]},{"cell_type":"markdown","metadata":{},"source":["We can change the object's data attributes:\n"]},{"cell_type":"code","execution_count":null,"metadata":{},"outputs":[],"source":["# Set the object attribute radius\n","\n","RedCircle.radius = 1\n","RedCircle.radius"]},{"cell_type":"markdown","metadata":{},"source":["We can draw the object by using the method <code>drawCircle()</code>:\n"]},{"cell_type":"code","execution_count":null,"metadata":{},"outputs":[],"source":["# Call the method drawCircle\n","\n","RedCircle.drawCircle()"]},{"cell_type":"markdown","metadata":{},"source":["We can increase the radius of the circle by applying the method <code>add_radius()</code>. Let's increases the radius by 2 and then by 5:\n"]},{"cell_type":"code","execution_count":null,"metadata":{},"outputs":[],"source":["# Use method to change the object attribute radius\n","\n","print('Radius of object:',RedCircle.radius)\n","RedCircle.add_radius(2)\n","print('Radius of object of after applying the method add_radius(2):',RedCircle.radius)\n","RedCircle.add_radius(5)\n","print('Radius of object of after applying the method add_radius(5):',RedCircle.radius)"]},{"cell_type":"markdown","metadata":{},"source":["Let’s create a blue circle. As the default colour is blue, all we have to do is specify what the radius is:\n"]},{"cell_type":"code","execution_count":null,"metadata":{},"outputs":[],"source":["# Create a blue circle with a given radius\n","\n","BlueCircle = Circle(radius=100)"]},{"cell_type":"markdown","metadata":{},"source":["As before, we can access the attributes of the instance of the class by using the dot notation:\n"]},{"cell_type":"code","execution_count":null,"metadata":{},"outputs":[],"source":["# Print the object attribute radius\n","\n","BlueCircle.radius"]},{"cell_type":"code","execution_count":null,"metadata":{},"outputs":[],"source":["# Print the object attribute color\n","\n","BlueCircle.color"]},{"cell_type":"markdown","metadata":{},"source":["We can draw the object by using the method <code>drawCircle()</code>:\n"]},{"cell_type":"code","execution_count":null,"metadata":{},"outputs":[],"source":["# Call the method drawCircle\n","\n","BlueCircle.drawCircle()"]},{"cell_type":"markdown","metadata":{},"source":["Compare the x and y axis of the figure to the figure for <code>RedCircle</code>; they are different.\n"]},{"cell_type":"markdown","metadata":{},"source":["<hr>\n"]},{"cell_type":"markdown","metadata":{},"source":["<h2 id=\"rect\">The Rectangle Class</h2>\n"]},{"cell_type":"markdown","metadata":{},"source":["Let's create a class rectangle with the attributes of height, width, and color. We will only add the method to draw the rectangle object:\n"]},{"cell_type":"code","execution_count":null,"metadata":{"jupyter":{"outputs_hidden":true}},"outputs":[],"source":["# Create a new Rectangle class for creating a rectangle object\n","\n","class Rectangle(object):\n","    \n","    # Constructor\n","    def __init__(self, width=2, height=3, color='r'):\n","        self.height = height \n","        self.width = width\n","        self.color = color\n","    \n","    # Method\n","    def drawRectangle(self):\n","        plt.gca().add_patch(plt.Rectangle((0, 0), self.width, self.height ,fc=self.color))\n","        plt.axis('scaled')\n","        plt.show()\n","        "]},{"cell_type":"markdown","metadata":{},"source":["Let’s create the object <code>SkinnyBlueRectangle</code> of type Rectangle. Its width will be 2 and height will be 3, and the color will be blue:\n"]},{"cell_type":"code","execution_count":null,"metadata":{},"outputs":[],"source":["# Create a new object rectangle\n","\n","SkinnyBlueRectangle = Rectangle(2, 10, 'blue')"]},{"cell_type":"markdown","metadata":{},"source":["As before we can access the attributes of the instance of the class by using the dot notation:\n"]},{"cell_type":"code","execution_count":null,"metadata":{},"outputs":[],"source":["# Print the object attribute height\n","\n","SkinnyBlueRectangle.height "]},{"cell_type":"code","execution_count":null,"metadata":{},"outputs":[],"source":["# Print the object attribute width\n","\n","SkinnyBlueRectangle.width"]},{"cell_type":"code","execution_count":null,"metadata":{},"outputs":[],"source":["# Print the object attribute color\n","\n","SkinnyBlueRectangle.color"]},{"cell_type":"markdown","metadata":{},"source":["We can draw the object:\n"]},{"cell_type":"code","execution_count":null,"metadata":{"scrolled":true},"outputs":[],"source":["# Use the drawRectangle method to draw the shape\n","\n","SkinnyBlueRectangle.drawRectangle()"]},{"cell_type":"markdown","metadata":{},"source":["Let’s create the object <code>FatYellowRectangle</code> of type Rectangle:\n"]},{"cell_type":"code","execution_count":null,"metadata":{"jupyter":{"outputs_hidden":true}},"outputs":[],"source":["# Create a new object rectangle\n","\n","FatYellowRectangle = Rectangle(20, 5, 'yellow')"]},{"cell_type":"markdown","metadata":{},"source":["We can access the attributes of the instance of the class by using the dot notation:\n"]},{"cell_type":"code","execution_count":null,"metadata":{},"outputs":[],"source":["# Print the object attribute height\n","\n","FatYellowRectangle.height "]},{"cell_type":"code","execution_count":null,"metadata":{},"outputs":[],"source":["# Print the object attribute width\n","\n","FatYellowRectangle.width"]},{"cell_type":"code","execution_count":null,"metadata":{},"outputs":[],"source":["# Print the object attribute color\n","\n","FatYellowRectangle.color"]},{"cell_type":"markdown","metadata":{},"source":["We can draw the object:\n"]},{"cell_type":"code","execution_count":null,"metadata":{},"outputs":[],"source":["# Use the drawRectangle method to draw the shape\n","\n","FatYellowRectangle.drawRectangle()"]},{"cell_type":"markdown","metadata":{},"source":["<hr>\n"]},{"cell_type":"markdown","metadata":{},"source":["<h2 id=\"rect\">Exercises</h2>\n"]},{"cell_type":"markdown","metadata":{},"source":["<h4> Text Analysis </h4>\n"]},{"cell_type":"markdown","metadata":{},"source":["You have been recruited by your friend, a linguistics enthusiast, to create a utility tool that can perform analysis on a given piece of text. Complete the class\n","'analysedText' with the following methods -\n","\n","<ul>\n","    <li> Constructor - Takes argument 'text',makes it lower case and removes all punctuation. Assume only the following punctuation is used - period (.), exclamation mark (!), comma (,) and question mark (?). Store the argument in \"fmtText\"      \n","    <li> freqAll - returns a dictionary of all unique words in the text along with the number of their occurences.\n","    <li> freqOf - returns the frequency of the word passed in argument.\n","</ul>\n"," The skeleton code has been given to you. Docstrings can be ignored for the purpose of the exercise. <br>\n"," <i> Hint: Some useful functions are <code>replace()</code>, <code>lower()</code>, <code>split()</code>, <code>count()</code> </i><br>\n"]},{"cell_type":"code","execution_count":null,"metadata":{},"outputs":[],"source":["class analysedText(object):\n","    \n","    def __init__ (self, text):\n","        pass\n","    \n","    def freqAll(self):        \n","        pass\n","    \n","    def freqOf(self,word):\n","        pass\n","        "]},{"cell_type":"markdown","metadata":{},"source":["Execute the block below to check your progress.\n"]},{"cell_type":"code","execution_count":null,"metadata":{},"outputs":[],"source":["import sys\n","\n","sampleMap = {'eirmod': 1,'sed': 1, 'amet': 2, 'diam': 5, 'consetetur': 1, 'labore': 1, 'tempor': 1, 'dolor': 1, 'magna': 2, 'et': 3, 'nonumy': 1, 'ipsum': 1, 'lorem': 2}\n","\n","def testMsg(passed):\n","    if passed:\n","       return 'Test Passed'\n","    else :\n","       return 'Test Failed'\n","\n","print(\"Constructor: \")\n","try:\n","    samplePassage = analysedText(\"Lorem ipsum dolor! diam amet, consetetur Lorem magna. sed diam nonumy eirmod tempor. diam et labore? et diam magna. et diam amet.\")\n","    print(testMsg(samplePassage.fmtText == \"lorem ipsum dolor diam amet consetetur lorem magna sed diam nonumy eirmod tempor diam et labore et diam magna et diam amet\"))\n","except:\n","    print(\"Error detected. Recheck your function \" )\n","print(\"freqAll: \")\n","try:\n","    wordMap = samplePassage.freqAll()\n","    print(testMsg(wordMap==sampleMap))\n","except:\n","    print(\"Error detected. Recheck your function \" )\n","print(\"freqOf: \")\n","try:\n","    passed = True\n","    for word in sampleMap:\n","        if samplePassage.freqOf(word) != sampleMap[word]:\n","            passed = False\n","            break\n","    print(testMsg(passed))\n","    \n","except:\n","    print(\"Error detected. Recheck your function  \" )\n","    "]},{"cell_type":"markdown","metadata":{},"source":["<details><summary>Click here for the solution</summary>\n","\n","```python\n","class analysedText(object):\n","    \n","    def __init__ (self, text):\n","        # remove punctuation\n","        formattedText = text.replace('.','').replace('!','').replace('?','').replace(',','')\n","        \n","        # make text lowercase\n","        formattedText = formattedText.lower()\n","        \n","        self.fmtText = formattedText\n","        \n","    def freqAll(self):        \n","        # split text into words\n","        wordList = self.fmtText.split(' ')\n","        \n","        # Create dictionary\n","        freqMap = {}\n","        for word in set(wordList): # use set to remove duplicates in list\n","            freqMap[word] = wordList.count(word)\n","        \n","        return freqMap\n","    \n","    def freqOf(self,word):\n","        # get frequency map\n","        freqDict = self.freqAll()\n","        \n","        if word in freqDict:\n","            return freqDict[word]\n","        else:\n","            return 0\n","    \n","```\n","\n","</details>\n"]},{"cell_type":"markdown","metadata":{},"source":["<hr>\n","<h2>The last exercise!</h2>\n","<p>Congratulations, you have completed your first lesson and hands-on lab in Python. However, there is one more thing you need to do. The Data Science community encourages sharing work. The best way to share and showcase your work is to share it on GitHub. By sharing your notebook on GitHub you are not only building your reputation with fellow data scientists, but you can also show it off when applying for a job. Even though this was your first piece of work, it is never too early to start building good habits. So, please read and follow <a href=\"https://cognitiveclass.ai/blog/data-scientists-stand-out-by-sharing-your-notebooks/?utm_medium=Exinfluencer&utm_source=Exinfluencer&utm_content=000026UJ&utm_term=10006555&utm_id=NA-SkillsNetwork-Channel-SkillsNetworkCoursesIBMDeveloperSkillsNetworkPY0101ENSkillsNetwork19487395-2021-01-01\" target=\"_blank\">this article</a> to learn how to share your work.\n","<hr>\n"]},{"cell_type":"markdown","metadata":{},"source":["## Author\n","\n","<a href=\"https://www.linkedin.com/in/joseph-s-50398b136/?utm_medium=Exinfluencer&utm_source=Exinfluencer&utm_content=000026UJ&utm_term=10006555&utm_id=NA-SkillsNetwork-Channel-SkillsNetworkCoursesIBMDeveloperSkillsNetworkPY0101ENSkillsNetwork19487395-2021-01-01\" target=\"_blank\">Joseph Santarcangelo</a>\n","\n","## Other contributors\n","\n","<a href=\"https://www.linkedin.com/in/jiahui-mavis-zhou-a4537814a?utm_medium=Exinfluencer&utm_source=Exinfluencer&utm_content=000026UJ&utm_term=10006555&utm_id=NA-SkillsNetwork-Channel-SkillsNetworkCoursesIBMDeveloperSkillsNetworkPY0101ENSkillsNetwork19487395-2021-01-01\">Mavis Zhou</a>\n","\n","## Change Log\n","\n","| Date (YYYY-MM-DD) | Version | Changed By | Change Description                 |\n","| ----------------- | ------- | ---------- | ---------------------------------- |\n","| 2020-08-26        | 2.0     | Lavanya    | Moved lab to course repo in GitLab |\n","|                   |         |            |                                    |\n","|                   |         |            |                                    |\n","\n","<hr/>\n","\n","## <h3 align=\"center\"> © IBM Corporation 2020. All rights reserved. <h3/>\n"]}],"metadata":{"kernelspec":{"display_name":"Python 3","language":"python","name":"python3"},"language_info":{"codemirror_mode":{"name":"ipython","version":3},"file_extension":".py","mimetype":"text/x-python","name":"python","nbconvert_exporter":"python","pygments_lexer":"ipython3","version":"3.7.6"}},"nbformat":4,"nbformat_minor":4}
